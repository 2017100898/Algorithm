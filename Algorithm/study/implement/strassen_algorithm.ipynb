{
 "cells": [
  {
   "cell_type": "code",
   "execution_count": 1,
   "id": "magnetic-miniature",
   "metadata": {},
   "outputs": [
    {
     "name": "stdout",
     "output_type": "stream",
     "text": [
      "[[ 1 -9 -2 -2]\n",
      " [11 15 -1 -1]\n",
      " [ 1 -7 -4  0]\n",
      " [15  9 22  2]]\n"
     ]
    }
   ],
   "source": [
    "# 쉬트라센 알고리즘\n",
    "\n",
    "import numpy as np\n",
    "\n",
    "def strassen(n, A, B, C):\n",
    "    threshold = 2\n",
    "\n",
    "    A11 = np.array([[A[rows][cols] for cols in range(n//2)]for rows in range(n//2)])\n",
    "    A12 = np.array([[A[rows][cols] for cols in range(n//2,n)]for rows in range(n//2)])\n",
    "    A21 = np.array([[A[rows][cols] for cols in range(n//2)]for rows in range(n//2,n)])\n",
    "    A22 = np.array([[A[rows][cols] for cols in range(n//2,n)]for rows in range(n//2,n)])\n",
    "    B11 = np.array([[B[rows][cols] for cols in range(n//2)]for rows in range(n//2)])\n",
    "    B12 = np.array([[B[rows][cols] for cols in range(n//2,n)]for rows in range(n//2)])\n",
    "    B21 = np.array([[B[rows][cols] for cols in range(n//2)]for rows in range(n//2,n)])\n",
    "    B22 = np.array([[B[rows][cols] for cols in range(n//2,n)]for rows in range(n//2,n)])\n",
    "\n",
    "    if (n <= threshold):\n",
    "        C = np.array(A) @ np.array(B)\n",
    "        \n",
    "    else:\n",
    "        M = np.array([])\n",
    "        M1=strassen(n//2, (A11 + A22), (B11 + B22), M)\n",
    "        M2=strassen(n//2, (A21 + A22), B11, M)\n",
    "        M3=strassen(n//2, A11, (B12 - B22), M)\n",
    "        M4=strassen(n//2, A22, (B21 - B11), M)\n",
    "        M5=strassen(n//2, (A11 + A12), B22, M)\n",
    "        M6=strassen(n//2, (A21 - A11), (B11 + B12), M)\n",
    "        M7=strassen(n//2, (A12 - A22), (B21 + B22), M)\n",
    "\n",
    "        C =  np.vstack([ np.hstack([M1 + M4 - M5 + M7, M3 + M5]), np.hstack([M2 + M4, M1 - M2 + M3 + M6]) ])\n",
    "    \n",
    "    return C\n",
    "\n",
    "\n",
    "A=[ [-1,2,-3,-1], [1,-2,3,4], [0,2,-5,0],[1,2,7,1]]\n",
    "B=[ [-2,2,3,3], [3,-1,3,0], [1,1,2,0],[4,2,-1,-1]]\n",
    "C = np.array([])\n",
    "C = strassen(4, A, B, C)\n",
    "print(C)\n"
   ]
  },
  {
   "cell_type": "code",
   "execution_count": null,
   "id": "comparative-father",
   "metadata": {},
   "outputs": [],
   "source": []
  }
 ],
 "metadata": {
  "kernelspec": {
   "display_name": "Python 3",
   "language": "python",
   "name": "python3"
  },
  "language_info": {
   "codemirror_mode": {
    "name": "ipython",
    "version": 3
   },
   "file_extension": ".py",
   "mimetype": "text/x-python",
   "name": "python",
   "nbconvert_exporter": "python",
   "pygments_lexer": "ipython3",
   "version": "3.9.2"
  }
 },
 "nbformat": 4,
 "nbformat_minor": 5
}
