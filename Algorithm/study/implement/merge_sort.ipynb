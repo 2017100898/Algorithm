{
 "cells": [
  {
   "cell_type": "code",
   "execution_count": 1,
   "id": "boring-gallery",
   "metadata": {},
   "outputs": [
    {
     "name": "stdout",
     "output_type": "stream",
     "text": [
      "[1, 2, 3, 4, 5, 6, 7, 8, 9, 10, 11, 12, 13, 14, 15, 16]\n",
      "추가적인 저장공간 개수는  30 개\n"
     ]
    }
   ],
   "source": [
    "def merge_sort(data):\n",
    "    global maxcount, count\n",
    "    leftHalf = []\n",
    "    rightHalf = []\n",
    "    \n",
    "    mid = len(data) // 2\n",
    "    \n",
    "    if(len(data) > 1):\n",
    "        leftHalf = data[:mid]\n",
    "        rightHalf = data[mid:]\n",
    "        count += (len(leftHalf)+len(rightHalf))\n",
    "        if count > maxcount:\n",
    "            maxcount = count\n",
    "        \n",
    "        merge_sort(leftHalf)\n",
    "        merge_sort(rightHalf)\n",
    "\n",
    "        merge(leftHalf, rightHalf, data)\n",
    "\n",
    "        \n",
    "def merge(leftList, rightList, data):\n",
    "    global maxcount, count\n",
    "    i = 0\n",
    "    j = 0\n",
    "    m = 0\n",
    "    \n",
    "    while i < len(leftList) and j < len(rightList):\n",
    "        if leftList[i] < rightList[j]:\n",
    "            data[m] = leftList[i]\n",
    "            i+=1\n",
    "            m+=1\n",
    "            \n",
    "        else:\n",
    "            data[m] = rightList[j]\n",
    "            j+=1\n",
    "            m+=1\n",
    "        \n",
    "        \n",
    "    if i == len(leftList):\n",
    "        data[m:] = rightList[j:]\n",
    "    else:\n",
    "        data[m:] = leftList[i:]\n",
    "    \n",
    "    count -= (len(leftList)+len(rightList))\n",
    "    \n",
    "data = [11,5,2,16,12,1,8,15,6,14,9,3,10,7,13,4]\n",
    "maxcount = 0\n",
    "count = 0\n",
    "\n",
    "merge_sort(data)\n",
    "print(data)\n",
    "print(\"추가적인 저장공간 개수는 \", maxcount, \"개\")"
   ]
  },
  {
   "cell_type": "code",
   "execution_count": 2,
   "id": "continuing-johns",
   "metadata": {},
   "outputs": [
    {
     "name": "stdout",
     "output_type": "stream",
     "text": [
      "[1, 2, 3, 4, 5, 6, 7, 8, 9, 10, 11, 12, 13, 14, 15, 16]\n",
      "추가적인 저장공간 개수는  16 개\n"
     ]
    }
   ],
   "source": [
    "def merge_sort2(data, low, high):\n",
    "    global maxcount2, count2\n",
    "    \n",
    "    if low < high:\n",
    "        mid = (low+high) // 2\n",
    "        merge_sort2(data, low, mid)\n",
    "        merge_sort2(data, mid+1, high)\n",
    "        merge2(data, low, mid, high)\n",
    "\n",
    "        \n",
    "def merge2(data, low, mid, high):\n",
    "    global maxcount2, count2\n",
    "    i = low\n",
    "    j = mid+1\n",
    "    m = low\n",
    "    \n",
    "    count2 += high+1\n",
    "    result_list = [0]*(high+1)\n",
    "    \n",
    "    while i <= mid and j <= high :\n",
    "        if data[i] < data[j]:\n",
    "            result_list[m] = data[i]\n",
    "            i+=1\n",
    "            m+=1\n",
    "        else:\n",
    "            result_list[m] = data[j]\n",
    "            j+=1\n",
    "            m+=1\n",
    "        \n",
    "    if i > mid:\n",
    "        result_list[m:] = data[j:]\n",
    "    else:\n",
    "        result_list[m:] = data[i:mid+1]\n",
    "\n",
    "    if count2 > maxcount2:\n",
    "        maxcount2 = count2\n",
    "    \n",
    "    data[low:high+1] = result_list[low:high+1]\n",
    "    count2 -= high+1\n",
    "    \n",
    "data2 = [11,5,2,16,12,1,8,15,6,14,9,3,10,7,13,4]\n",
    "maxcount2 = 0\n",
    "count2 = 0\n",
    "\n",
    "merge_sort2(data2, 0, len(data2)-1)\n",
    "print(data2)\n",
    "print(\"추가적인 저장공간 개수는 \", maxcount2, \"개\")\n"
   ]
  },
  {
   "cell_type": "code",
   "execution_count": null,
   "id": "declared-colombia",
   "metadata": {},
   "outputs": [],
   "source": []
  }
 ],
 "metadata": {
  "kernelspec": {
   "display_name": "Python 3",
   "language": "python",
   "name": "python3"
  },
  "language_info": {
   "codemirror_mode": {
    "name": "ipython",
    "version": 3
   },
   "file_extension": ".py",
   "mimetype": "text/x-python",
   "name": "python",
   "nbconvert_exporter": "python",
   "pygments_lexer": "ipython3",
   "version": "3.9.2"
  }
 },
 "nbformat": 4,
 "nbformat_minor": 5
}
