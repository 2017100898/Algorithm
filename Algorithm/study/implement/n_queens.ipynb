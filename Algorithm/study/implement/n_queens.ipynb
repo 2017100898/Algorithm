{
 "cells": [
  {
   "cell_type": "code",
   "execution_count": 1,
   "id": "weird-appearance",
   "metadata": {},
   "outputs": [
    {
     "name": "stdout",
     "output_type": "stream",
     "text": [
      "[0, 3, 6, 2, 5, 1, 4]\n",
      "40\n"
     ]
    }
   ],
   "source": [
    "def promising(i, col):\n",
    "    k = 0\n",
    "    switch = True\n",
    "    while(k<i and switch==True):\n",
    "        if(col[i] == col[k] or abs(col[i]-col[k]) == i-k):\n",
    "            switch = False\n",
    "        k+=1\n",
    "    \n",
    "    return switch\n",
    "    \n",
    "def queens(n, i , col):\n",
    "    global result\n",
    "    if(promising(i, col)==True):\n",
    "        if(i==n-1):\n",
    "            result+=1\n",
    "            if(result == target):\n",
    "                print(col)\n",
    "                  \n",
    "        else:\n",
    "            for j in range(0, n):\n",
    "                col[i+1] = j\n",
    "                queens(n, i+1, col)\n",
    "\n",
    "\n",
    "n=7\n",
    "col = n*[0]\n",
    "result = 0\n",
    "target = 2\n",
    "queens(n, -1, col)\n",
    "print(result)\n"
   ]
  },
  {
   "cell_type": "code",
   "execution_count": null,
   "id": "running-malaysia",
   "metadata": {},
   "outputs": [],
   "source": []
  }
 ],
 "metadata": {
  "kernelspec": {
   "display_name": "Python 3",
   "language": "python",
   "name": "python3"
  },
  "language_info": {
   "codemirror_mode": {
    "name": "ipython",
    "version": 3
   },
   "file_extension": ".py",
   "mimetype": "text/x-python",
   "name": "python",
   "nbconvert_exporter": "python",
   "pygments_lexer": "ipython3",
   "version": "3.9.2"
  }
 },
 "nbformat": 4,
 "nbformat_minor": 5
}
