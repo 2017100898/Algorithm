{
 "cells": [
  {
   "cell_type": "code",
   "execution_count": 1,
   "id": "removable-flashing",
   "metadata": {},
   "outputs": [
    {
     "name": "stdout",
     "output_type": "stream",
     "text": [
      "items = [1, 2, 3, 4, 5, 6]  W =  11\n",
      "[1, 1, 1, 0, 1, 0]\n",
      "[1, 0, 0, 1, 0, 1]\n",
      "[0, 1, 1, 0, 0, 1]\n",
      "[0, 1, 0, 1, 1, 0]\n",
      "[0, 0, 0, 0, 1, 1]\n",
      "\n"
     ]
    }
   ],
   "source": [
    "def sum_of_subsets(i, weight, total, include):\n",
    "    if promising(weight, i, total):\n",
    "        if(weight == W):\n",
    "            print(include)\n",
    "        else:\n",
    "            include[i+1] = 1\n",
    "            sum_of_subsets(i+1, weight+w[i+1], total-w[i+1], include)\n",
    "            include[i+1] = 0\n",
    "            sum_of_subsets(i+1, weight, total-w[i+1], include)\n",
    "    \n",
    "def promising(weight, i, total):\n",
    "    return (weight+total >= W) and (weight==W or weight+w[i+1] <= W)\n",
    "\n",
    "w = [1,2,3,4,5,6]\n",
    "n = len(w)\n",
    "W = 11\n",
    "print(\"items =\",w,\" W = \", W)\n",
    "include = n*[0]\n",
    "total = 0\n",
    "for k in w:\n",
    "    total+=k\n",
    "    \n",
    "sum_of_subsets(-1, 0, total, include)\n",
    "\n",
    "print()"
   ]
  },
  {
   "cell_type": "code",
   "execution_count": null,
   "id": "neural-delight",
   "metadata": {},
   "outputs": [],
   "source": []
  }
 ],
 "metadata": {
  "kernelspec": {
   "display_name": "Python 3",
   "language": "python",
   "name": "python3"
  },
  "language_info": {
   "codemirror_mode": {
    "name": "ipython",
    "version": 3
   },
   "file_extension": ".py",
   "mimetype": "text/x-python",
   "name": "python",
   "nbconvert_exporter": "python",
   "pygments_lexer": "ipython3",
   "version": "3.9.2"
  }
 },
 "nbformat": 4,
 "nbformat_minor": 5
}
