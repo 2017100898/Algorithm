{
 "cells": [
  {
   "cell_type": "code",
   "execution_count": 1,
   "id": "intense-staff",
   "metadata": {},
   "outputs": [
    {
     "name": "stdout",
     "output_type": "stream",
     "text": [
      "[0, 14, 11, 9, 7, 6, 3, 2, 5]\n",
      "[0, 50, 14, 9, 11, 6, 3, 2, 5, 7]\n",
      "[50, 14, 11, 9, 7, 6, 5, 3, 2]\n"
     ]
    }
   ],
   "source": [
    "import math\n",
    "class Heap(object):\n",
    "    n = 0\n",
    "    \n",
    "    def __init__(self, data):\n",
    "        self.data = data\n",
    "        self.n = len(self.data)-1\n",
    "        \n",
    "    def addElt(self, elt):\n",
    "        self.n = self.n +1\n",
    "        self.data.append(elt)\n",
    "        self.siftUp(self.n)\n",
    "        \n",
    "\n",
    "    def siftUp(self, i):\n",
    "        while(i>=2):\n",
    "            j = int(i / 2)\n",
    "            if self.data[j] >= self.data[i]:\n",
    "                return\n",
    "            self.data[i], self.data[j] = self.data[j], self.data[i]\n",
    "            i = j\n",
    "            \n",
    "    def siftDown(self, i):\n",
    "        s = self.data[i]\n",
    "        found = False\n",
    "        j = i\n",
    "        while not found and 2*j <= self.n:\n",
    "            if 2*j < self.n and self.data[2*j] < self.data[2*j+1]:\n",
    "                right = 2*j +1\n",
    "            else:\n",
    "                right = 2*j\n",
    "            if s < self.data[right]:\n",
    "                self.data[j] = self.data[right]\n",
    "                j = right\n",
    "            else:\n",
    "                found = True\n",
    "        \n",
    "        self.data[j] = s\n",
    "                \n",
    "    \n",
    "    def makeHeap2(self):\n",
    "        for num in range(int(self.n/2), 0, -1):\n",
    "            self.siftDown(num)\n",
    "        \n",
    "    def root(self):\n",
    "        if(self.n > 0):\n",
    "            keyout = self.data[1]\n",
    "            self.data[1] = self.data[self.n]\n",
    "            self.n = self.n -  1\n",
    "            self.siftDown(1)\n",
    "            return keyout\n",
    "    \n",
    "    def removeKeys(self):\n",
    "        temp = []\n",
    "        for num in range(self.n):\n",
    "            root = self.root()\n",
    "            temp.append(root)\n",
    "        return temp\n",
    "        \n",
    "\n",
    "def heapSort(a):\n",
    "    heap = Heap(a)\n",
    "    heap.makeHeap2()\n",
    "    temp = heap.removeKeys()\n",
    "    return temp\n",
    "\n",
    "a = [0, 11, 14, 2, 7, 6, 3, 9, 5]\n",
    "b = Heap(a)\n",
    "b.makeHeap2()\n",
    "print(b.data)\n",
    "b.addElt(50)\n",
    "print(b.data)\n",
    "s = heapSort(a)\n",
    "print(s)\n"
   ]
  },
  {
   "cell_type": "code",
   "execution_count": null,
   "id": "british-jamaica",
   "metadata": {},
   "outputs": [],
   "source": []
  }
 ],
 "metadata": {
  "kernelspec": {
   "display_name": "Python 3",
   "language": "python",
   "name": "python3"
  },
  "language_info": {
   "codemirror_mode": {
    "name": "ipython",
    "version": 3
   },
   "file_extension": ".py",
   "mimetype": "text/x-python",
   "name": "python",
   "nbconvert_exporter": "python",
   "pygments_lexer": "ipython3",
   "version": "3.9.2"
  }
 },
 "nbformat": 4,
 "nbformat_minor": 5
}
