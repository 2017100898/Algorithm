{
 "cells": [
  {
   "cell_type": "code",
   "execution_count": 1,
   "id": "handmade-israeli",
   "metadata": {},
   "outputs": [
    {
     "name": "stdout",
     "output_type": "stream",
     "text": [
      "[1, 2, 3, 1, 2]\n",
      "[1, 3, 2, 1, 3]\n",
      "[2, 1, 3, 2, 1]\n",
      "[2, 3, 1, 2, 3]\n",
      "[3, 1, 2, 3, 1]\n",
      "[3, 2, 1, 3, 2]\n"
     ]
    }
   ],
   "source": [
    "def m_color(i, vcolor):\n",
    "    if promising2(i, vcolor):\n",
    "        if(i==n-1):\n",
    "            print(vcolor)\n",
    "        else:\n",
    "            for color in range(1, m+1):\n",
    "                vcolor[i+1] = color\n",
    "                m_color(i+1, vcolor)\n",
    "    \n",
    "def promising2(i, vcolor):\n",
    "    j = 0\n",
    "    switch = True\n",
    "    \n",
    "    while(j < i and switch):\n",
    "        if(W[i][j] and vcolor[i]==vcolor[j]):\n",
    "            switch = False\n",
    "        j+=1\n",
    "        \n",
    "    return switch\n",
    "    \n",
    "    \n",
    "n = 5\n",
    "W=[[0,1,1,0,1], [1,0,1,0,0], [1,1,0,1,1], [0,0,1,0,1], [1,0,1,1,0]]\n",
    "vcolor = n*[0]\n",
    "m=3\n",
    "m_color(-1, vcolor)\n"
   ]
  },
  {
   "cell_type": "code",
   "execution_count": null,
   "id": "ranging-humanitarian",
   "metadata": {},
   "outputs": [],
   "source": []
  }
 ],
 "metadata": {
  "kernelspec": {
   "display_name": "Python 3",
   "language": "python",
   "name": "python3"
  },
  "language_info": {
   "codemirror_mode": {
    "name": "ipython",
    "version": 3
   },
   "file_extension": ".py",
   "mimetype": "text/x-python",
   "name": "python",
   "nbconvert_exporter": "python",
   "pygments_lexer": "ipython3",
   "version": "3.9.2"
  }
 },
 "nbformat": 4,
 "nbformat_minor": 5
}
