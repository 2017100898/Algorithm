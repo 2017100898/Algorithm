{
 "cells": [
  {
   "cell_type": "code",
   "execution_count": 1,
   "id": "quarterly-sapphire",
   "metadata": {},
   "outputs": [
    {
     "name": "stdout",
     "output_type": "stream",
     "text": [
      "{(3, 1), (0, 2), (0, 4), (4, 3)}\n",
      "[0, 5, 4, 2, 1]\n"
     ]
    }
   ],
   "source": [
    "inf = 1000\n",
    "\n",
    "w = [[0, 7, 4, 6, 1],\n",
    "     [inf, 0, inf, inf, inf],\n",
    "     [inf, 2, 0, 5, inf],\n",
    "     [inf, 3, inf, 0, inf],\n",
    "     [inf, inf, inf, 1, 0]]\n",
    "\n",
    "n = 5\n",
    "f = set()\n",
    "touch = n*[0]\n",
    "length = n*[0]\n",
    "save_length= n*[0]\n",
    "\n",
    "for i in range(1, n):\n",
    "    length[i] = w[0][i]\n",
    "    \n",
    "    \n",
    "for j in range(1, n):\n",
    "    min = inf\n",
    "    for i in range(1, n):\n",
    "        if(0 <= length[i] and length[i] <min):\n",
    "            min = length[i]\n",
    "            vnear = i\n",
    "    \n",
    "    e = (touch[vnear], vnear)\n",
    "    f.add(e)\n",
    "    \n",
    "    for i in range(1, n):\n",
    "        if(length[vnear]+w[vnear][i] < length[i]):\n",
    "            length[i] = length[vnear]+w[vnear][i]\n",
    "            touch[i] =vnear\n",
    "            \n",
    "    save_length[vnear] = length[vnear]\n",
    "    length[vnear] = -1\n",
    "\n",
    "\n",
    "    \n",
    "print(f)\n",
    "print(save_length)\n"
   ]
  },
  {
   "cell_type": "code",
   "execution_count": null,
   "id": "fewer-territory",
   "metadata": {},
   "outputs": [],
   "source": []
  }
 ],
 "metadata": {
  "kernelspec": {
   "display_name": "Python 3",
   "language": "python",
   "name": "python3"
  },
  "language_info": {
   "codemirror_mode": {
    "name": "ipython",
    "version": 3
   },
   "file_extension": ".py",
   "mimetype": "text/x-python",
   "name": "python",
   "nbconvert_exporter": "python",
   "pygments_lexer": "ipython3",
   "version": "3.9.2"
  }
 },
 "nbformat": 4,
 "nbformat_minor": 5
}
